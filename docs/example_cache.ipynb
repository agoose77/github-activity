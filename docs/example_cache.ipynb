{
 "cells": [
  {
   "cell_type": "markdown",
   "metadata": {},
   "source": [
    "# A short example of cacheing `github-activity`\n",
    "\n",
    "Sometimes you'd like to store the results of a query for later.\n",
    "For example, if it takes a long time to run a query. To enable\n",
    "cacheing with `github-activity`, use the `cache=True` flag with\n",
    "the `get_activity` function:"
   ]
  },
  {
   "cell_type": "code",
   "execution_count": 7,
   "metadata": {},
   "outputs": [],
   "source": [
    "from github_activity.github_activity import get_activity\n",
    "from github_activity.cache import load_from_cache, get_cache_stats\n",
    "\n",
    "activity = get_activity(\"jupyter/repo2docker\", \"2019\", cache=True)"
   ]
  },
  {
   "cell_type": "markdown",
   "metadata": {},
   "source": [
    "the data that is downloaded will be saved to a folder (by default,\n",
    "`~/data_github_activity`). You can then access the data like so:"
   ]
  },
  {
   "cell_type": "code",
   "execution_count": 9,
   "metadata": {},
   "outputs": [
    {
     "data": {
      "text/html": [
       "<div>\n",
       "<style scoped>\n",
       "    .dataframe tbody tr th:only-of-type {\n",
       "        vertical-align: middle;\n",
       "    }\n",
       "\n",
       "    .dataframe tbody tr th {\n",
       "        vertical-align: top;\n",
       "    }\n",
       "\n",
       "    .dataframe thead th {\n",
       "        text-align: right;\n",
       "    }\n",
       "</style>\n",
       "<table border=\"1\" class=\"dataframe\">\n",
       "  <thead>\n",
       "    <tr style=\"text-align: right;\">\n",
       "      <th></th>\n",
       "      <th>author</th>\n",
       "      <th>createdAt</th>\n",
       "      <th>url</th>\n",
       "    </tr>\n",
       "  </thead>\n",
       "  <tbody>\n",
       "    <tr>\n",
       "      <th>0</th>\n",
       "      <td>betatim</td>\n",
       "      <td>2020-03-04T21:14:22Z</td>\n",
       "      <td>https://github.com/jupyter/repo2docker/pull/86...</td>\n",
       "    </tr>\n",
       "    <tr>\n",
       "      <th>1</th>\n",
       "      <td>yuvipanda</td>\n",
       "      <td>2020-03-04T09:31:42Z</td>\n",
       "      <td>https://github.com/jupyter/repo2docker/pull/85...</td>\n",
       "    </tr>\n",
       "    <tr>\n",
       "      <th>2</th>\n",
       "      <td>yuvipanda</td>\n",
       "      <td>2020-03-04T20:10:08Z</td>\n",
       "      <td>https://github.com/jupyter/repo2docker/pull/85...</td>\n",
       "    </tr>\n",
       "    <tr>\n",
       "      <th>3</th>\n",
       "      <td>betatim</td>\n",
       "      <td>2020-03-04T21:38:47Z</td>\n",
       "      <td>https://github.com/jupyter/repo2docker/pull/85...</td>\n",
       "    </tr>\n",
       "    <tr>\n",
       "      <th>4</th>\n",
       "      <td>betatim</td>\n",
       "      <td>2020-03-05T07:57:54Z</td>\n",
       "      <td>https://github.com/jupyter/repo2docker/pull/85...</td>\n",
       "    </tr>\n",
       "  </tbody>\n",
       "</table>\n",
       "</div>"
      ],
      "text/plain": [
       "      author             createdAt  \\\n",
       "0    betatim  2020-03-04T21:14:22Z   \n",
       "1  yuvipanda  2020-03-04T09:31:42Z   \n",
       "2  yuvipanda  2020-03-04T20:10:08Z   \n",
       "3    betatim  2020-03-04T21:38:47Z   \n",
       "4    betatim  2020-03-05T07:57:54Z   \n",
       "\n",
       "                                                 url  \n",
       "0  https://github.com/jupyter/repo2docker/pull/86...  \n",
       "1  https://github.com/jupyter/repo2docker/pull/85...  \n",
       "2  https://github.com/jupyter/repo2docker/pull/85...  \n",
       "3  https://github.com/jupyter/repo2docker/pull/85...  \n",
       "4  https://github.com/jupyter/repo2docker/pull/85...  "
      ]
     },
     "execution_count": 9,
     "metadata": {},
     "output_type": "execute_result"
    }
   ],
   "source": [
    "data = load_from_cache(\"jupyter/repo2docker\", \"comments\")\n",
    "data.head()"
   ]
  },
  {
   "cell_type": "markdown",
   "metadata": {},
   "source": [
    "finally, you can retrieve some simple statistics about the cache like so:"
   ]
  },
  {
   "cell_type": "code",
   "execution_count": 10,
   "metadata": {},
   "outputs": [
    {
     "data": {
      "text/html": [
       "<div>\n",
       "<style scoped>\n",
       "    .dataframe tbody tr th:only-of-type {\n",
       "        vertical-align: middle;\n",
       "    }\n",
       "\n",
       "    .dataframe tbody tr th {\n",
       "        vertical-align: top;\n",
       "    }\n",
       "\n",
       "    .dataframe thead th {\n",
       "        text-align: right;\n",
       "    }\n",
       "</style>\n",
       "<table border=\"1\" class=\"dataframe\">\n",
       "  <thead>\n",
       "    <tr style=\"text-align: right;\">\n",
       "      <th></th>\n",
       "      <th>org</th>\n",
       "      <th>repo</th>\n",
       "      <th>kind</th>\n",
       "      <th>start</th>\n",
       "      <th>end</th>\n",
       "      <th>nrecords</th>\n",
       "    </tr>\n",
       "  </thead>\n",
       "  <tbody>\n",
       "    <tr>\n",
       "      <th>0</th>\n",
       "      <td>jupyter</td>\n",
       "      <td>repo2docker</td>\n",
       "      <td>comments</td>\n",
       "      <td>2017-08-28T15:42:03Z</td>\n",
       "      <td>2020-03-14T13:56:29Z</td>\n",
       "      <td>1376</td>\n",
       "    </tr>\n",
       "    <tr>\n",
       "      <th>1</th>\n",
       "      <td>jupyter</td>\n",
       "      <td>repo2docker</td>\n",
       "      <td>issues</td>\n",
       "      <td>2017-08-28T15:39:11Z</td>\n",
       "      <td>2020-03-04T20:48:48Z</td>\n",
       "      <td>279</td>\n",
       "    </tr>\n",
       "    <tr>\n",
       "      <th>2</th>\n",
       "      <td>jupyter</td>\n",
       "      <td>repo2docker</td>\n",
       "      <td>prs</td>\n",
       "      <td>2018-03-18T21:33:10Z</td>\n",
       "      <td>2020-03-04T20:48:48Z</td>\n",
       "      <td>154</td>\n",
       "    </tr>\n",
       "  </tbody>\n",
       "</table>\n",
       "</div>"
      ],
      "text/plain": [
       "       org         repo      kind                 start                   end  \\\n",
       "0  jupyter  repo2docker  comments  2017-08-28T15:42:03Z  2020-03-14T13:56:29Z   \n",
       "1  jupyter  repo2docker    issues  2017-08-28T15:39:11Z  2020-03-04T20:48:48Z   \n",
       "2  jupyter  repo2docker       prs  2018-03-18T21:33:10Z  2020-03-04T20:48:48Z   \n",
       "\n",
       "   nrecords  \n",
       "0      1376  \n",
       "1       279  \n",
       "2       154  "
      ]
     },
     "execution_count": 10,
     "metadata": {},
     "output_type": "execute_result"
    }
   ],
   "source": [
    "get_cache_stats()"
   ]
  }
 ],
 "metadata": {
  "kernelspec": {
   "display_name": "Python 3",
   "language": "python",
   "name": "python3"
  },
  "language_info": {
   "codemirror_mode": {
    "name": "ipython",
    "version": 3
   },
   "file_extension": ".py",
   "mimetype": "text/x-python",
   "name": "python",
   "nbconvert_exporter": "python",
   "pygments_lexer": "ipython3",
   "version": "3.7.3"
  },
  "widgets": {
   "application/vnd.jupyter.widget-state+json": {
    "state": {
     "158f925c47c44036b71fcc1285aee39d": {
      "model_module": "@jupyter-widgets/controls",
      "model_module_version": "1.5.0",
      "model_name": "IntProgressModel",
      "state": {
       "bar_style": "success",
       "description": "Downloading:",
       "layout": "IPY_MODEL_e1f388f1c399458a9dafb3534bc2db73",
       "max": 5,
       "style": "IPY_MODEL_d3e915945ec245d8936775b6ab93fc45",
       "value": 5
      }
     },
     "15b4c0864c9c4d14a68040ef48fdf342": {
      "model_module": "@jupyter-widgets/controls",
      "model_module_version": "1.5.0",
      "model_name": "ProgressStyleModel",
      "state": {
       "description_width": ""
      }
     },
     "62076d436627420789d136b2d0a3a96c": {
      "model_module": "@jupyter-widgets/controls",
      "model_module_version": "1.5.0",
      "model_name": "IntProgressModel",
      "state": {
       "bar_style": "success",
       "description": "Downloading:",
       "layout": "IPY_MODEL_b2eef1d5671e4ab08d87f014600d7ec7",
       "max": 1,
       "style": "IPY_MODEL_d400290eed2c4ce8b83c0a9c0eb2358f",
       "value": 1
      }
     },
     "736a802383d24ad6a594ee4cb71effc0": {
      "model_module": "@jupyter-widgets/controls",
      "model_module_version": "1.5.0",
      "model_name": "IntProgressModel",
      "state": {
       "bar_style": "success",
       "description": "Downloading:",
       "layout": "IPY_MODEL_a2a5059792344b0d90978f44c735e174",
       "max": 5,
       "style": "IPY_MODEL_15b4c0864c9c4d14a68040ef48fdf342",
       "value": 5
      }
     },
     "a2a5059792344b0d90978f44c735e174": {
      "model_module": "@jupyter-widgets/base",
      "model_module_version": "1.2.0",
      "model_name": "LayoutModel",
      "state": {}
     },
     "abba43a4b665421381990bacd60a679a": {
      "model_module": "@jupyter-widgets/base",
      "model_module_version": "1.2.0",
      "model_name": "LayoutModel",
      "state": {}
     },
     "b2eef1d5671e4ab08d87f014600d7ec7": {
      "model_module": "@jupyter-widgets/base",
      "model_module_version": "1.2.0",
      "model_name": "LayoutModel",
      "state": {}
     },
     "bf3a50cafeea4fcc8bb598959b46a73b": {
      "model_module": "@jupyter-widgets/controls",
      "model_module_version": "1.5.0",
      "model_name": "IntProgressModel",
      "state": {
       "bar_style": "success",
       "description": "Downloading:",
       "layout": "IPY_MODEL_abba43a4b665421381990bacd60a679a",
       "max": 1,
       "style": "IPY_MODEL_d94167be26064424b78294d6a831111c",
       "value": 1
      }
     },
     "d3e915945ec245d8936775b6ab93fc45": {
      "model_module": "@jupyter-widgets/controls",
      "model_module_version": "1.5.0",
      "model_name": "ProgressStyleModel",
      "state": {
       "description_width": ""
      }
     },
     "d400290eed2c4ce8b83c0a9c0eb2358f": {
      "model_module": "@jupyter-widgets/controls",
      "model_module_version": "1.5.0",
      "model_name": "ProgressStyleModel",
      "state": {
       "description_width": ""
      }
     },
     "d94167be26064424b78294d6a831111c": {
      "model_module": "@jupyter-widgets/controls",
      "model_module_version": "1.5.0",
      "model_name": "ProgressStyleModel",
      "state": {
       "description_width": ""
      }
     },
     "e1f388f1c399458a9dafb3534bc2db73": {
      "model_module": "@jupyter-widgets/base",
      "model_module_version": "1.2.0",
      "model_name": "LayoutModel",
      "state": {}
     }
    },
    "version_major": 2,
    "version_minor": 0
   }
  }
 },
 "nbformat": 4,
 "nbformat_minor": 4
}
